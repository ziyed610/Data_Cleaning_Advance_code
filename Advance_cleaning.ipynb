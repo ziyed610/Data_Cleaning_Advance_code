{
 "cells": [
  {
   "cell_type": "code",
   "execution_count": 18,
   "id": "266a941e",
   "metadata": {},
   "outputs": [
    {
     "name": "stdout",
     "output_type": "stream",
     "text": [
      "[['', '', '', 'Visits', 'Bookings', 'Revenue', 'Bounces', 'Room Nights', 'Conversion Rate'], ['', '', '', '', '', '', 'ghsdvhsd', '', ''], ['Full Property Name', '', '', '6248', '524', '120447.97', '1682', '866', '0.083866837'], ['Hyatt Place Blacksburg/University', '', '', '6248', '524', '120447.97', '1682', '866', '0.083866837'], ['Hyatt Place Blacksburg/University', 'Last Touch Channel Allocation', '', '6248', '524', '120447.97', '1682', '866', '0.083866837'], ['Hyatt Place Blacksburg/University', 'natural search', '', '1711', '170', '40348.39', '291', '260', '0.099357101'], ['Hyatt Place Blacksburg/University', 'Unspecified', '', '1327', '131', '25079.74', '73', '216', '0.098718915'], ['Hyatt Place Blacksburg/University', 'typed/bookmarked', '', '1305', '107', '25004.4', '329', '189', '0.081992337'], ['Hyatt Place Blacksburg/University', 'hotel wifi', '', '784', '1', '171.05', '773', '1', '0.00127551'], ['Hyatt Place Blacksburg/University', 'paid search', '', '366', '45', '14083.8', '60', '84', '0.12295082'], ['Hyatt Place Blacksburg/University', 'unpaid referrers', '', '233', '13', '2539.65', '45', '20', '0.055793991'], ['Hyatt Place Blacksburg/University', 'unpaid referrers', 'Original Referring Domain', '233', '13', '2539.65', '45', '20', '0.055793991'], ['Hyatt Place Blacksburg/University', 'unpaid referrers', 'vt.edu', '80', '2', '358', '20', '3', '0.025'], ['Hyatt Place Blacksburg/University', 'unpaid referrers', 'duckduckgo.com', '39', '6', '878.3', '5', '8', '0.153846154'], ['Hyatt Place Blacksburg/University', 'unpaid referrers', 'None', '32', '3', '993.25', '3', '7', '0.09375'], ['Hyatt Place Blacksburg/University', 'unpaid referrers', 'google.com', '30', '1', '149', '6', '1', '0.033333333'], ['Hyatt Place Blacksburg/University', 'unpaid referrers', 'thevthotel.com', '28', '0', '0', '3', '0', '0'], ['Hyatt Place Blacksburg/University', 'unpaid referrers', 'apple.com', '6', '1', '161.1', '0', '1', '0.166666667'], ['Hyatt Place Blacksburg/University', 'unpaid referrers', 'doubleclick.net', '3', '0', '0', '3', '0', '0'], ['Hyatt Place Blacksburg/University', 'unpaid referrers', 'vtfijigrads.com', '3', '0', '0', '2', '0', '0'], ['Hyatt Place Blacksburg/University', 'unpaid referrers', 'qualtrics.com', '3', '0', '0', '1', '0', '0'], ['Hyatt Place Blacksburg/University', 'unpaid referrers', 'aiaa.org', '2', '0', '0', '1', '0', '0'], ['Hyatt Place Blacksburg/University', 'unpaid referrers', 'com.google', '2', '0', '0', '1', '0', '0'], ['Hyatt Place Blacksburg/University', 'unpaid referrers', 'bing.com', '2', '0', '0', '0', '0', '0'], ['Hyatt Place Blacksburg/University', 'unpaid referrers', 'hyattconnect.com', '1', '0', '0', '0', '0', '0'], ['Hyatt Place Blacksburg/University', 'unpaid referrers', 'microsoft.com', '1', '0', '0', '0', '0', '0'], ['Hyatt Place Blacksburg/University', 'unpaid referrers', 'armstrongmywire.com', '1', '0', '0', '0', '0', '0'], ['Hyatt Place Blacksburg/University', 'misc', '', '184', '3', '624.75', '25', '4', '0.016304348'], ['Hyatt Place Blacksburg/University', 'paid meta', '', '167', '17', '4779.9', '35', '33', '0.101796407'], ['Hyatt Place Blacksburg/University', 'organic meta', '', '162', '20', '3838.49', '33', '30', '0.12345679'], ['Hyatt Place Blacksburg/University', 'paid listing', '', '57', '4', '1086', '9', '6', '0.070175439'], ['Hyatt Place Blacksburg/University', 'email', '', '52', '12', '2782.8', '3', '22', '0.230769231'], ['Hyatt Place Blacksburg/University', 'social media', '', '10', '0', '0', '4', '0', '0'], ['Hyatt Place Blacksburg/University', 'paid social', '', '7', '0', '0', '1', '0', '0'], ['Hyatt Place Blacksburg/University', 'banner ads', '', '3', '0', '0', '1', '0', '0'], ['Hyatt Place Blacksburg/University', 'meta search', '', '2', '1', '109', '0', '1', '0.5']]\n"
     ]
    }
   ],
   "source": [
    "import csv\n",
    "import pandas as pd\n",
    "import datetime as dt\n",
    "import glob\n",
    "\n",
    "# Specify the file path\n",
    "folder_path = r'file'  # Replace with the actual path to your folder\n",
    "\n",
    "csv_files = glob.glob(folder_path + '/*.csv')\n",
    "\n",
    "\n",
    "\n",
    "header = ['Property Name', 'Second', 'Third', 'Bookings', 'Revenue', 'Room Nights', 'Bounces', 'Conversion Rate','Visits']\n",
    "\n",
    "# Create an empty DataFrame to store the cleaned data\n",
    "df = pd.DataFrame(columns = header)\n",
    "\n",
    "\n",
    "# Open and clean each CSV file\n",
    "for file_path in csv_files:\n",
    "    with open(file_path, 'r') as csv_file:\n",
    "        # Create a CSV reader\n",
    "        csv_reader = csv.reader(csv_file)\n",
    "\n",
    "        # Read and process the data\n",
    "        rows = []\n",
    "        found_date = False\n",
    "\n",
    "        for row in csv_reader:\n",
    "            if not found_date:\n",
    "                if row and row[0].startswith('# Date:'):\n",
    "                    found_date = True\n",
    "                    date = row[0].split(':')[1].strip()\n",
    "            else:\n",
    "                if row and not row[0].startswith('#'):\n",
    "                    rows.append(row)\n",
    "        rows = [row for row in rows if any(cell.strip() for cell in row)]\n",
    "        print(rows)\n",
    "       \n",
    "    # Create a DataFrame from the cleaned rows\n",
    "    file_df = pd.DataFrame(rows, columns = rows[0])\n",
    "    # Add first 3 column\n",
    "    file_df.columns = ['Property Name', 'Second','Third'] + list(file_df.columns[3:])\n",
    "    file_df = file_df.drop(index = file_df.index[:2])\n",
    "    #file_df.reset_index(inplace=True, drop=True)\n",
    "    #file_df.columns = df.columns\n",
    "    \n",
    "    #df = pd.concat([df,file_df],ignore_index=True)\n",
    "    \n",
    "    \n",
    "    \n",
    "index_to_drop = df[df['Property Name'] == 'Full Property Name'].index\n",
    "\n",
    "# Drop the row from the DataFrame\n",
    "df.drop(index_to_drop, inplace=True)"
   ]
  },
  {
   "cell_type": "code",
   "execution_count": null,
   "id": "7ecfc66f",
   "metadata": {},
   "outputs": [],
   "source": []
  },
  {
   "cell_type": "code",
   "execution_count": null,
   "id": "384243b9",
   "metadata": {},
   "outputs": [],
   "source": []
  },
  {
   "cell_type": "code",
   "execution_count": null,
   "id": "d41e5d44",
   "metadata": {},
   "outputs": [],
   "source": []
  }
 ],
 "metadata": {
  "kernelspec": {
   "display_name": "Python 3 (ipykernel)",
   "language": "python",
   "name": "python3"
  },
  "language_info": {
   "codemirror_mode": {
    "name": "ipython",
    "version": 3
   },
   "file_extension": ".py",
   "mimetype": "text/x-python",
   "name": "python",
   "nbconvert_exporter": "python",
   "pygments_lexer": "ipython3",
   "version": "3.10.9"
  }
 },
 "nbformat": 4,
 "nbformat_minor": 5
}
